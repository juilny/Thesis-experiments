{
 "cells": [
  {
   "cell_type": "code",
   "execution_count": 1,
   "id": "adult-denmark",
   "metadata": {},
   "outputs": [],
   "source": [
    "# This notebook has been modified (cleaned up) from the exact version used in the thesis,\n",
    "# and verified to work with versions seen in the end."
   ]
  },
  {
   "cell_type": "code",
   "execution_count": 2,
   "id": "apparent-adaptation",
   "metadata": {},
   "outputs": [],
   "source": [
    "import qiskit\n",
    "from qiskit import ClassicalRegister, QuantumRegister, QuantumCircuit, transpile\n",
    "from qiskit import execute, Aer, BasicAer\n",
    "from qiskit import IBMQ\n",
    "from qiskit.tools.visualization import plot_histogram, plot_gate_map, plot_circuit_layout\n",
    "\n",
    "from qiskit.tools.monitor import job_monitor\n",
    "\n",
    "import matplotlib.pyplot as plt\n",
    "import numpy as np\n",
    "from qiskit.circuit.library import MCMT\n",
    "from qiskit.providers.ibmq.managed import IBMQJobManager"
   ]
  },
  {
   "cell_type": "code",
   "execution_count": 13,
   "id": "deluxe-laundry",
   "metadata": {},
   "outputs": [],
   "source": [
    "# prepare one qubit and inverse if dagger == 1\n",
    "def apply_secret_state(state, qubit, circ, dagger):    \n",
    "    functionmap = {\n",
    "        'x':circ.x,\n",
    "        'y':circ.y,\n",
    "        'z':circ.z,\n",
    "        'h':circ.h,\n",
    "        't':circ.t,\n",
    "    } # if dagger true do state from left to right\n",
    "    if dagger: functionmap['t'] = qc.tdg\n",
    "        \n",
    "    if dagger:\n",
    "        [functionmap[unitary](qubit) for unitary in state] # \n",
    "    else:\n",
    "        [functionmap[unitary](qubit) for unitary in state[::-1]] # if dagger not true "
   ]
  },
  {
   "cell_type": "code",
   "execution_count": null,
   "id": "younger-system",
   "metadata": {},
   "outputs": [],
   "source": []
  },
  {
   "cell_type": "code",
   "execution_count": 14,
   "id": "interesting-difference",
   "metadata": {},
   "outputs": [],
   "source": [
    "# Prepare an EPR pair, could be made more modular, i.e. taking input qubits instead\n",
    "def create_EPR_pair(basis, qubits, qc):\n",
    "#    qc.x(q[2])\n",
    "    qc.h(q[1])\n",
    "    qc.cx(q[1],q[2]),\n",
    "    if (basis == 'phi-'):\n",
    "        qc.x(q[1]),\n",
    "    if (basis == 'psi+'):\n",
    "        qc.x(q[2]),\n",
    "    if (basis == 'psi-'):\n",
    "        qc.x(q[1])\n",
    "        qc.x(q[2])"
   ]
  },
  {
   "cell_type": "code",
   "execution_count": 19,
   "id": "structural-species",
   "metadata": {},
   "outputs": [
    {
     "data": {
      "image/png": "[encoded data removed]",
      "text/plain": [
       "<Figure size 1110x264.88 with 1 Axes>"
      ]
     },
     "execution_count": 19,
     "metadata": {},
     "output_type": "execute_result"
    }
   ],
   "source": [
    "# q[0] Has the state to be teleported\n",
    "# q[1] Alice's EPR qubit\n",
    "# q[2] Bob's EPR qubit\n",
    "# Quantum Circuit\n",
    "n = 3\n",
    "q = QuantumRegister(n, name='q')\n",
    "c = ClassicalRegister(n, name='c')\n",
    "qc = QuantumCircuit(q, c, name='qc')\n",
    "secret_state = 'hx' # gates working x,y,z,h,t #applied in order from right to left\n",
    "basis = 'psi+' # bases: phi+, phi-, psi+, psi-\n",
    "\n",
    "\n",
    "# Apply secret state to specific qubit\n",
    "apply_secret_state(secret_state, q[0], qc, dagger = 0)\n",
    "qc.barrier()\n",
    "\n",
    "# Create the entangled EPR pair for Alice & Bob\n",
    "create_EPR_pair(basis, q, qc)\n",
    "qc.barrier()\n",
    "\n",
    "# Teleportation protocol\n",
    "qc.cx(q[0],q[1])\n",
    "qc.h(q[0])\n",
    "\n",
    "qc.cx(q[1], q[2])\n",
    "qc.cz(q[0], q[2])\n",
    "qc.barrier()\n",
    "\n",
    "# if protocol worked q[2] = secret_state|0>\n",
    "\n",
    "apply_secret_state(secret_state, q[2], qc, dagger=1)\n",
    "qc.barrier()\n",
    "for i in range(n):\n",
    "    qc.measure(i,i)\n",
    "\n",
    "qc.draw()"
   ]
  },
  {
   "cell_type": "code",
   "execution_count": 20,
   "id": "normal-transcription",
   "metadata": {},
   "outputs": [
    {
     "data": {
      "text/plain": [
       "<AccountProvider for IBMQ(hub='ibm-q', group='open', project='main')>"
      ]
     },
     "execution_count": 20,
     "metadata": {},
     "output_type": "execute_result"
    }
   ],
   "source": [
    "IBMQ.load_account()"
   ]
  },
  {
   "cell_type": "code",
   "execution_count": 22,
   "id": "horizontal-withdrawal",
   "metadata": {},
   "outputs": [
    {
     "data": {
      "image/png": "[encoded data removed]",
      "text/plain": [
       "<Figure size 360x360 with 1 Axes>"
      ]
     },
     "execution_count": 22,
     "metadata": {},
     "output_type": "execute_result"
    }
   ],
   "source": [
    "provider = IBMQ.get_provider(hub='ibm-q')\n",
    "#provider.backends()\n",
    "backend = provider.get_backend('ibmq_quito') #Ourense is no more, some other picked instead\n",
    "import inspect\n",
    "inspect.signature(transpile)\n",
    "circ = transpile(qc, backend=backend, optimization_level=3)\n",
    "plot_circuit_layout(circ, backend)"
   ]
  },
  {
   "cell_type": "code",
   "execution_count": 23,
   "id": "cellular-license",
   "metadata": {},
   "outputs": [],
   "source": [
    "shots = 8192\n",
    "circ = transpile(circ, backend=backend)\n",
    "name = 'Quantum Teleportation ' + str(n) + ' qubits'\n",
    "## Run circuits with jobmanager on IBM systems\n",
    "job_manager = IBMQJobManager()\n",
    "jobs = job_manager.run([circ],backend=backend,name=name,shots=shots)"
   ]
  },
  {
   "cell_type": "code",
   "execution_count": 25,
   "id": "imposed-allowance",
   "metadata": {},
   "outputs": [
    {
     "data": {
      "text/plain": [
       "[<JobStatus.DONE: 'job has successfully run'>]"
      ]
     },
     "execution_count": 25,
     "metadata": {},
     "output_type": "execute_result"
    }
   ],
   "source": [
    "jobs.statuses()"
   ]
  },
  {
   "cell_type": "code",
   "execution_count": 24,
   "id": "statutory-mobile",
   "metadata": {},
   "outputs": [],
   "source": [
    "# Run Simulation\n",
    "backend = BasicAer.get_backend('qasm_simulator')\n",
    "job_sim = execute(qc, backend=backend, shots=8192)"
   ]
  },
  {
   "cell_type": "code",
   "execution_count": 30,
   "id": "abstract-rachel",
   "metadata": {},
   "outputs": [
    {
     "name": "stderr",
     "output_type": "stream",
     "text": [
      "/usr/local/Cellar/jupyterlab/3.0.12/libexec/lib/python3.9/site-packages/qiskit/providers/ibmq/managed/managedjobset.py:394: DeprecationWarning: The ``IBMQJob.qobj()`` method is deprecated and will be removed in a future release. You can now pass circuits to ``IBMQBackend.run()`` and use ``IBMQJob.circuits()``, ``IBMQJob.backend_options()``, and ``IBMQJob.header()`` to retrieve circuits, run configuration, and Qobj header, respectively.\n",
      "  for i, exp in enumerate(job.qobj().experiments):\n"
     ]
    }
   ],
   "source": [
    "# Store results\n",
    "exp_result = jobs.results().get_counts(circ)\n",
    "sim_result = job_sim.result().get_counts(qc)"
   ]
  },
  {
   "cell_type": "code",
   "execution_count": 31,
   "id": "former-economy",
   "metadata": {},
   "outputs": [
    {
     "data": {
      "image/png": "[encoded data removed]",
      "text/plain": [
       "<Figure size 504x360 with 1 Axes>"
      ]
     },
     "execution_count": 31,
     "metadata": {},
     "output_type": "execute_result"
    }
   ],
   "source": [
    "legend = ['Real', 'Simulator']\n",
    "plot_histogram([exp_result, sim_result], legend=legend, bar_labels=False)"
   ]
  },
  {
   "cell_type": "code",
   "execution_count": 27,
   "id": "daily-poverty",
   "metadata": {},
   "outputs": [
    {
     "name": "stdout",
     "output_type": "stream",
     "text": [
      "{'000': 1937, '001': 1826, '010': 1998, '011': 1730, '100': 188, '101': 164, '110': 174, '111': 175}\n"
     ]
    }
   ],
   "source": [
    "print(exp_result)"
   ]
  },
  {
   "cell_type": "code",
   "execution_count": null,
   "id": "digital-extra",
   "metadata": {},
   "outputs": [],
   "source": []
  },
  {
   "cell_type": "code",
   "execution_count": null,
   "id": "innovative-kansas",
   "metadata": {},
   "outputs": [],
   "source": []
  },
  {
   "cell_type": "code",
   "execution_count": null,
   "id": "adult-hobby",
   "metadata": {},
   "outputs": [],
   "source": []
  },
  {
   "cell_type": "code",
   "execution_count": 32,
   "id": "introductory-chassis",
   "metadata": {},
   "outputs": [
    {
     "name": "stdout",
     "output_type": "stream",
     "text": [
      "('qiskit-terra', '0.17.1')\n",
      "('qiskit-aer', '0.8.1')\n",
      "('qiskit-ignis', '0.6.0')\n",
      "('qiskit-ibmq-provider', '0.12.3')\n",
      "('qiskit-aqua', '0.9.1')\n",
      "('qiskit', '0.25.2')\n",
      "('qiskit-nature', None)\n",
      "('qiskit-finance', None)\n",
      "('qiskit-optimization', None)\n",
      "('qiskit-machine-learning', None)\n"
     ]
    }
   ],
   "source": [
    "import qiskit\n",
    "for i in qiskit.__qiskit_version__.items():\n",
    "    print(i)"
   ]
  }
 ],
 "metadata": {
  "kernelspec": {
   "display_name": "Python 3",
   "language": "python",
   "name": "python3"
  },
  "language_info": {
   "codemirror_mode": {
    "name": "ipython",
    "version": 3
   },
   "file_extension": ".py",
   "mimetype": "text/x-python",
   "name": "python",
   "nbconvert_exporter": "python",
   "pygments_lexer": "ipython3",
   "version": "3.9.4"
  }
 },
 "nbformat": 4,
 "nbformat_minor": 5
}
