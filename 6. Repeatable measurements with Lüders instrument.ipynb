{
 "cells": [
  {
   "cell_type": "markdown",
   "id": "structural-peninsula",
   "metadata": {},
   "source": [
    "This notebook is a bit long with several parts\n",
    "\n",
    "1. Define callable functions and create series of circuits with qubits\n",
    "   in range from n to m and k copies of each\n",
    "2. run the circuits in IBM simulators (be prepared to wait with large values)\n",
    "   and failed runs. Easier to wait until all simulations have run successfully\n",
    "   and retrieve stored results.\n",
    "3. Calculate the success probabilities and make graphs\n"
   ]
  },
  {
   "cell_type": "code",
   "execution_count": 31,
   "id": "mexican-advocacy",
   "metadata": {},
   "outputs": [],
   "source": [
    "import matplotlib.pyplot as plt\n",
    "import math\n",
    "%matplotlib inline\n",
    "import numpy as np\n",
    "import inspect\n",
    "import scipy\n",
    "\n",
    "from math import pi\n",
    "\n",
    "from scipy.special import factorial as fac\n",
    "from scipy.special import comb as comb\n",
    "\n",
    "from qiskit import QuantumCircuit, ClassicalRegister, QuantumRegister, execute\n",
    "from qiskit.quantum_info.operators import Operator # operators\n",
    "from qiskit.circuit import Gate # Custom gate\n",
    "from qiskit.tools.visualization import circuit_drawer, plot_histogram, plot_gate_map, plot_circuit_layout\n",
    "from qiskit.quantum_info import state_fidelity\n",
    "from qiskit import Aer, transpile\n",
    "## Logging to IBMQ ##\n",
    "from qiskit import IBMQ\n",
    "from qiskit.providers.ibmq.managed import IBMQJobManager\n",
    "from qiskit.providers.aer.noise import thermal_relaxation_error\n",
    "from qiskit.providers.aer.noise import NoiseModel\n",
    "from qiskit.providers.aer import QasmSimulator\n",
    "from qiskit.tools.monitor import job_monitor\n",
    "\n",
    "from qiskit.providers.aer.noise import pauli_error"
   ]
  },
  {
   "cell_type": "code",
   "execution_count": 58,
   "id": "experienced-communications",
   "metadata": {},
   "outputs": [],
   "source": [
    "# Function to calculate the success probability from simulation counts\n",
    "def successProb(counts):\n",
    "\n",
    "    lista = []\n",
    "    tmp = []\n",
    "    zeros = []\n",
    "    ones = []\n",
    "\n",
    "\n",
    "    for i in range(int(len(counts)/k)):\n",
    "        zero = []\n",
    "        one = []\n",
    "        for j in range(k):\n",
    "            tmp0 = 0\n",
    "            tmp1 = 0\n",
    "            for l in counts[j+i*k].items():\n",
    "                if( l[0].count('0') > l[0].count('1')) or (l[0].count('0') == l[0].count('1')):\n",
    "                    if(l[0].count('0') == l[0].count('1')):\n",
    "                        tmp0 = tmp0 + l[1]/2\n",
    "                    else:\n",
    "                        tmp0 = tmp0 + l[1]\n",
    "                else:\n",
    "                    tmp1 = tmp1 + l[1]\n",
    "            zero.append(tmp0)\n",
    "            one.append(tmp1)\n",
    "            tmp.append(counts[j+i*k])\n",
    "        lista.append(tmp)\n",
    "        zeros.append(sum(zero)/(k*shots))\n",
    "        ones.append(sum(one)/(k*shots))\n",
    "    return zeros"
   ]
  },
  {
   "cell_type": "code",
   "execution_count": 32,
   "id": "unable-houston",
   "metadata": {},
   "outputs": [],
   "source": [
    "# Function to calculate the prediction for success probability\n",
    "\n",
    "def successProbabilityPrediction(n,L):\n",
    "    i = int((n+1)/2)\n",
    "    Lambda = (1 + np.sin(2*L))/2\n",
    "    summa = 0\n",
    "    while(i <= n):\n",
    "        bin1 = comb(n,i,exact=True)\n",
    "        \n",
    "        power1 = Lambda**i*(1-Lambda)**(n-i)\n",
    "        power2 = Lambda**(n-i)*(1-Lambda)**i\n",
    "\n",
    "\n",
    "        tmp = (bin1*(power1-power2)) #could be sum, but for debugging this is better\n",
    "        summa = summa + tmp\n",
    "\n",
    "        i += 1\n",
    "    p = 1/2*(1+summa)\n",
    "    return p"
   ]
  },
  {
   "cell_type": "code",
   "execution_count": 2,
   "id": "educational-theme",
   "metadata": {},
   "outputs": [],
   "source": [
    "## Preparing 3 seperate circuits with n qubits##\n",
    "\n",
    "#### SigmaXY ####\n",
    "def SigmaXY(n, theta, Lambda):\n",
    "    # Unitary Operator\n",
    "    L = Lambda\n",
    "    sub_q1 = QuantumRegister(2)\n",
    "    sub_XY = QuantumCircuit(sub_q1, name='$e^{\\sigma_x \\otimes \\sigma_y}$')\n",
    "\n",
    "\n",
    "    sigmaXY = Operator([[math.cos (L)  , 0           , 0, math.sin(L)],\n",
    "                        [0, math.cos(L), -math.sin(L), 0],\n",
    "                        [0, math.sin(L),  math.cos(L), 0],\n",
    "                        [-math.sin(L), 0, 0, math.cos(L)]])\n",
    "\n",
    "    sub_XY.unitary(sigmaXY, [sub_q1[1], sub_q1[0]], label='SigmaXY')\n",
    "    #sub_XY.barrier()\n",
    "    #sub_XY.z(sub_q1[1])  Just a reminder\n",
    "\n",
    "\n",
    "    sub_inst_XY = sub_XY.to_instruction()\n",
    "    \n",
    "    # Circuit\n",
    "    qr_XY = QuantumRegister(n, name='q_XY')\n",
    "    cr_XY = ClassicalRegister(n-1, name='c_XY')\n",
    "    circ_XY = QuantumCircuit(qr_XY,cr_XY)\n",
    "    circ_XY.h(qr_XY) \n",
    "    circ_XY.barrier()\n",
    "    for i in range(1,n):\n",
    "        circ_XY.append(sub_XY, [0,i])\n",
    "\n",
    "    circ_XY.barrier()\n",
    "    \n",
    "    for i in range(1,n):\n",
    "        circ_XY.measure(i,i-1)\n",
    "    return circ_XY\n",
    "#### SigmaXZ ####\n",
    "def SigmaXZ(n, theta, Lamda):\n",
    "    # Unitary Operator\n",
    "    L = Lambda\n",
    "\n",
    "    sub_q2 = QuantumRegister(2)\n",
    "    sub_XZ = QuantumCircuit(sub_q2, name='$e^{\\sigma_x \\otimes \\sigma_z}$')\n",
    "\n",
    "\n",
    "    sigmaXZ = Operator([[math.cos(L),0,math.sin(L)*1j,0],\n",
    "                        [0,math.cos(L),0,-math.sin(L)*1j],\n",
    "                        [math.sin(L)*1j,0,math.cos(L),0],\n",
    "                        [0,-math.sin(L)*1j,0,math.cos(L)]])\n",
    "\n",
    "    sub_XZ.unitary(sigmaXZ,[sub_q2[1], sub_q2[0]],label=\"SigmaXZ\")\n",
    "    #sub_XZ.barrier()\n",
    "    #sub_XZ.x(1)  Just a reminder\n",
    "    sub_inst_XZ = sub_XZ.to_instruction()\n",
    "\n",
    "    # Circuit\n",
    "    qr_XZ = QuantumRegister(n, name='q_XZ')\n",
    "    cr_XZ = ClassicalRegister(n-1, name='c_XZ')\n",
    "    circ_XZ = QuantumCircuit(qr_XZ, cr_XZ)\n",
    "\n",
    "    circ_XZ.h(0) # Hadamard on first and Rx rotation on others\n",
    "    \n",
    "    for i in range(1,n):\n",
    "        circ_XZ.rx(theta, i)\n",
    "    circ_XZ.barrier()\n",
    "\n",
    "    for i in range(1,n):\n",
    "        circ_XZ.append(sub_XZ, [0,i])\n",
    "\n",
    "    circ_XZ.barrier()\n",
    "\n",
    "    for i in range(1,n):\n",
    "        circ_XZ.h(i)\n",
    "\n",
    "    for i in range(1,n):\n",
    "        circ_XZ.measure(i,i-1)\n",
    "    return circ_XZ\n",
    "#### SigmaXX ####\n",
    "def SigmaXX(n, theta, Lambda):\n",
    "    # Unitary Operator    \n",
    "    L = Lambda\n",
    "    \n",
    "    sub_q3 = QuantumRegister(2, name='q3')\n",
    "    sub_XX = QuantumCircuit(sub_q3, name='$e^{\\sigma_x \\otimes \\sigma_x}$')\n",
    "\n",
    "\n",
    "    sigmaXX = Operator([[math.cos (L), 0 , 0, math.sin(L)*1j],\n",
    "                        [0, math.cos(L), math.sin(L)*1j, 0],\n",
    "                        [0, math.sin(L)*1j, math.cos(L), 0],\n",
    "                        [math.sin(L)*1j, 0, 0, math.cos(L)]])\n",
    "\n",
    "    sub_XX.unitary(sigmaXX, [sub_q3[1], sub_q3[0]],label='SigmaXX')\n",
    "    #sub_XX.barrier()\n",
    "    #sub_XX.y(1) Just a reminder\n",
    "\n",
    "    sub_inst_XX = sub_XX.to_instruction()\n",
    "    \n",
    "    # Circuit    \n",
    "    qr_XX = QuantumRegister(n, name='q_XX')\n",
    "    cr_XX = ClassicalRegister(n-1, name='c_XX')\n",
    "    circ_XX = QuantumCircuit(qr_XX, cr_XX)\n",
    "\n",
    "    circ_XX.h(0) # Hadamard on the first qubit\n",
    "    circ_XX.barrier()\n",
    "## Operations  on XX ##\n",
    "    for i in range(1,n):\n",
    "        circ_XX.append(sub_XX, [0,i])\n",
    "\n",
    "    circ_XX.barrier()\n",
    "\n",
    "    for i in range(1,n):\n",
    "        circ_XX.h(i)\n",
    "        circ_XX.sdg(i)\n",
    "\n",
    "    for i in range(1,n):\n",
    "        circ_XX.measure(i,i-1)\n",
    "    return circ_XX"
   ]
  },
  {
   "cell_type": "code",
   "execution_count": 7,
   "id": "likely-mineral",
   "metadata": {},
   "outputs": [],
   "source": [
    "# create a series of circuits starting from n to m qubits, with k copies of each number.\n",
    "n = 2\n",
    "m = 23\n",
    "k = 2 \n",
    "theta = math.pi/4\n",
    "Lambda = math.pi/32\n",
    "\n",
    "# Sets of circuits, easier to have them separate from this phase. As they can't be run\n",
    "# at the same time due to limited time provided by the IBM simulator.\n",
    "circ_0 = [] #lambda = 0\n",
    "circ_4 = [] #lambda = pi/4\n",
    "circ_8 = []\n",
    "circ_16 = []\n",
    "circ_32 = [] #lambda = pi/32\n",
    "\n",
    "# A relic from testing other values\n",
    "#circ_XZ = SigmaXZ(n,theta,Lambda)\n",
    "#circ_XX = SigmaXX(n,theta,Lambda)"
   ]
  },
  {
   "cell_type": "code",
   "execution_count": 76,
   "id": "grave-tampa",
   "metadata": {},
   "outputs": [],
   "source": [
    "# This could be written in a more sane manner, but this works just fine.\n",
    "# Change the value of Lambda and circ_<number> and run until all is covered\n",
    "\n",
    "Lambda = 0 #pi/4\n",
    "for j in range(n,m):\n",
    "    subcirc_XY = []\n",
    "    for i in range(k):\n",
    "        subcirc_XY.append(SigmaXY(j,theta,Lambda))\n",
    "    circ_0.append(subcirc_XY)"
   ]
  },
  {
   "cell_type": "code",
   "execution_count": 13,
   "id": "written-makeup",
   "metadata": {},
   "outputs": [
    {
     "data": {
      "image/png": "[encoded data removed]",
      "text/plain": [
       "<Figure size 1377.76x505.68 with 1 Axes>"
      ]
     },
     "execution_count": 13,
     "metadata": {},
     "output_type": "execute_result"
    }
   ],
   "source": [
    "circ_16[5][0].draw()"
   ]
  },
  {
   "cell_type": "code",
   "execution_count": 14,
   "id": "surface-consistency",
   "metadata": {},
   "outputs": [
    {
     "name": "stdout",
     "output_type": "stream",
     "text": [
      "NoiseModel:\n",
      "  Basis gates: ['cx', 'id', 'u1', 'u2', 'u3']\n",
      "  Instructions with noise: ['u1', 'u3', 'measure', 'u2', 'reset', 'cx']\n",
      "  All-qubits errors: ['reset', 'measure', 'u1', 'u2', 'u3', 'cx']\n"
     ]
    }
   ],
   "source": [
    "# Define Bit-flip-noise\n",
    "\n",
    "# Error probabilities\n",
    "p_reset = 0.05\n",
    "p_meas = 0.1\n",
    "p_gate1 = 0.05\n",
    "\n",
    "# QuantumError objects\n",
    "error_reset = pauli_error([('X', p_reset), ('I', 1 - p_reset)])\n",
    "error_meas = pauli_error([('X',p_meas), ('I', 1 - p_meas)])\n",
    "error_gate1 = pauli_error([('X',p_gate1), ('I', 1 - p_gate1)])\n",
    "error_gate2 = error_gate1.tensor(error_gate1)\n",
    "\n",
    "# Add errors to noise model\n",
    "noise_bit_flip = NoiseModel()\n",
    "noise_bit_flip.add_all_qubit_quantum_error(error_reset, \"reset\")\n",
    "noise_bit_flip.add_all_qubit_quantum_error(error_meas, \"measure\")\n",
    "noise_bit_flip.add_all_qubit_quantum_error(error_gate1, [\"u1\", \"u2\", \"u3\"])\n",
    "noise_bit_flip.add_all_qubit_quantum_error(error_gate2, [\"cx\"])\n",
    "\n",
    "print(noise_bit_flip)"
   ]
  },
  {
   "cell_type": "code",
   "execution_count": 133,
   "id": "primary-insider",
   "metadata": {},
   "outputs": [
    {
     "name": "stderr",
     "output_type": "stream",
     "text": [
      "ibmqfactory.load_account:WARNING:2021-05-29 15:41:43,718: Credentials are already in use. The existing account in the session will be replaced.\n"
     ]
    },
    {
     "data": {
      "text/plain": [
       "<AccountProvider for IBMQ(hub='ibm-q', group='open', project='main')>"
      ]
     },
     "execution_count": 133,
     "metadata": {},
     "output_type": "execute_result"
    }
   ],
   "source": [
    "IBMQ.load_account()"
   ]
  },
  {
   "cell_type": "code",
   "execution_count": 16,
   "id": "separated-cylinder",
   "metadata": {},
   "outputs": [],
   "source": [
    "provider = IBMQ.get_provider(hub='ibm-q')\n",
    "backend = provider.get_backend('ibmq_qasm_simulator')\n",
    "\n",
    "## provider.backends()"
   ]
  },
  {
   "cell_type": "code",
   "execution_count": 77,
   "id": "single-bridge",
   "metadata": {},
   "outputs": [],
   "source": [
    "## circuits to one-dimensional lists and transpile them, this could be cleaner. But it works as intended.\n",
    "\n",
    "circs_0 = []\n",
    "circs_4 = []\n",
    "circs_8 = []\n",
    "circs_16 = []\n",
    "circs_32 = []\n",
    "for i in range(len(circ_0)):\n",
    "    for j in circ_0[i]:\n",
    "        circs_0.append(j)\n",
    "for i in range(len(circ_4)):\n",
    "    for j in circ_4[i]:\n",
    "        circs_4.append(j)\n",
    "for i in range(len(circ_8)):\n",
    "    for j in circ_8[i]:\n",
    "        circs_8.append(j)\n",
    "for i in range(len(circ_16)):\n",
    "    for j in circ_16[i]:\n",
    "        circs_16.append(j)\n",
    "for i in range(len(circ_32)):\n",
    "    for j in circ_32[i]:\n",
    "        circs_32.append(j)\n",
    "circs_0 = transpile(circs_0, backend=backend)\n",
    "circs_4 = transpile(circs_4, backend=backend)        \n",
    "circs_8 = transpile(circs_8, backend=backend)        \n",
    "circs_16 = transpile(circs_16, backend=backend)        \n",
    "circs_32 = transpile(circs_32, backend=backend)        "
   ]
  },
  {
   "cell_type": "code",
   "execution_count": 65,
   "id": "resistant-furniture",
   "metadata": {},
   "outputs": [],
   "source": [
    "# Each with noise will take time to finish with large numbers. Patience required, check progress at\n",
    "# https://quantum-computing.ibm.com. Remember that there's a upper limit on how many can be\n",
    "# ran at once. With n=2,m=23,k=2 it took over 2 hours for each vs seconds with ideal simulations.\n",
    "shots = 8192\n",
    "job_manager = IBMQJobManager()\n",
    "noisy0 = job_manager.run(circs_0, noise_model = noise_bit_flip,\n",
    "                       backend=backend,name='Lüders\\'s instrument lambda=0',\n",
    "                       shots=shots)"
   ]
  },
  {
   "cell_type": "code",
   "execution_count": 75,
   "id": "helpful-company",
   "metadata": {},
   "outputs": [],
   "source": [
    "# Same but no noise\n",
    "job_manager = IBMQJobManager()\n",
    "ideal0 = job_manager.run(circs_0,\n",
    "                       backend=backend,name='Ideal Lüders\\'s instrument lambda=0',\n",
    "                       shots=shots)"
   ]
  },
  {
   "cell_type": "code",
   "execution_count": 21,
   "id": "proper-twins",
   "metadata": {},
   "outputs": [],
   "source": [
    "shots = 8192\n",
    "job_manager = IBMQJobManager()\n",
    "noisy4 = job_manager.run(circs_4, noise_model = noise_bit_flip,\n",
    "                       backend=backend,name='Lüders\\'s instrument pi/4',\n",
    "                       shots=shots)"
   ]
  },
  {
   "cell_type": "code",
   "execution_count": 22,
   "id": "built-radiation",
   "metadata": {},
   "outputs": [],
   "source": [
    "# Same but no noise\n",
    "job_manager = IBMQJobManager()\n",
    "ideal4 = job_manager.run(circs_4,\n",
    "                       backend=backend,name='Ideal Lüders\\'s instrument pi/4',\n",
    "                       shots=shots)"
   ]
  },
  {
   "cell_type": "code",
   "execution_count": 66,
   "id": "judicial-strip",
   "metadata": {},
   "outputs": [],
   "source": [
    "shots = 8192\n",
    "job_manager = IBMQJobManager()\n",
    "noisy8 = job_manager.run(circs_8, noise_model = noise_bit_flip,\n",
    "                       backend=backend,name='Lüders\\'s instrument pi/8',\n",
    "                       shots=shots)"
   ]
  },
  {
   "cell_type": "code",
   "execution_count": 23,
   "id": "tracked-watson",
   "metadata": {},
   "outputs": [],
   "source": [
    "# Same but no noise\n",
    "job_manager = IBMQJobManager()\n",
    "ideal8 = job_manager.run(circs_8,\n",
    "                       backend=backend,name='Ideal Lüders\\'s instrument pi/8',\n",
    "                       shots=shots)"
   ]
  },
  {
   "cell_type": "code",
   "execution_count": 41,
   "id": "marked-harmony",
   "metadata": {},
   "outputs": [],
   "source": [
    "shots = 8192\n",
    "job_manager = IBMQJobManager()\n",
    "noisy16 = job_manager.run(circs_16, noise_model = noise_bit_flip,\n",
    "                       backend=backend,name='Lüders\\'s instrument pi/16',\n",
    "                       shots=shots)"
   ]
  },
  {
   "cell_type": "code",
   "execution_count": 24,
   "id": "posted-dispatch",
   "metadata": {},
   "outputs": [],
   "source": [
    "# Same but no noise\n",
    "job_manager = IBMQJobManager()\n",
    "ideal16 = job_manager.run(circs_16,\n",
    "                       backend=backend,name='Ideal Lüders\\'s instrument pi/16',\n",
    "                       shots=shots)"
   ]
  },
  {
   "cell_type": "code",
   "execution_count": 42,
   "id": "encouraging-request",
   "metadata": {},
   "outputs": [],
   "source": [
    "shots = 8192\n",
    "job_manager = IBMQJobManager()\n",
    "noisy32 = job_manager.run(circs_32, noise_model = noise_bit_flip,\n",
    "                       backend=backend,name='Lüders\\'s instrument pi/32',\n",
    "                       shots=shots)"
   ]
  },
  {
   "cell_type": "code",
   "execution_count": 25,
   "id": "exterior-conviction",
   "metadata": {},
   "outputs": [],
   "source": [
    "# Same but no noise\n",
    "job_manager = IBMQJobManager()\n",
    "ideal32 = job_manager.run(circs_32,\n",
    "                       backend=backend,name='Ideal Lüders\\'s instrument pi/32',\n",
    "                       shots=shots)"
   ]
  },
  {
   "cell_type": "code",
   "execution_count": null,
   "id": "prompt-shannon",
   "metadata": {},
   "outputs": [],
   "source": []
  },
  {
   "cell_type": "code",
   "execution_count": 111,
   "id": "first-looking",
   "metadata": {},
   "outputs": [],
   "source": [
    "# Resulting counts\n",
    "# OR return saved jobs --> next cell. Very likely it is easier to do\n",
    "# the cell below instead. \n",
    "# \n",
    "\n",
    "tmp = []\n",
    "tmpi = []\n",
    "\n",
    "for i in range(len(circs_0)):\n",
    "    tmp.append(noisy0.results().get_counts(i))\n",
    "    tmpi.append(ideal0.results().get_counts(i))\n",
    "noisy0 = tmp\n",
    "ideal0 = tmpi\n",
    "    \n",
    "for i in range(len(circs_4)):\n",
    "    tmp.append(noisy4.results().get_counts(i))\n",
    "    tmpi.append(ideal4.results().get_counts(i))\n",
    "noisy0 = tmp\n",
    "ideal0 = tmpi\n",
    "    \n",
    "for i in range(len(circs_8)):\n",
    "    tmp.append(noisy4.results().get_counts(i))\n",
    "    tmpi.append(ideal4.results().get_counts(i))\n",
    "noisy0 = tmp\n",
    "ideal0 = tmpi\n",
    "    \n",
    "for i in range(len(circs_16)):\n",
    "    tmp.append(noisy4.results().get_counts(i))\n",
    "    tmpi.append(ideal4.results().get_counts(i))\n",
    "noisy0 = tmp\n",
    "ideal0 = tmpi\n",
    "    \n",
    "for i in range(len(circs_32)):\n",
    "    tmp.append(noisy32.results().get_counts(i))\n",
    "    tmpi.append(ideal32.results().get_counts(i))\n",
    "    \n",
    "noisy0 = tmp\n",
    "ideal0 = tmpi"
   ]
  },
  {
   "cell_type": "code",
   "execution_count": 143,
   "id": "legitimate-print",
   "metadata": {},
   "outputs": [],
   "source": [
    "# Ignore this and the step below if everything worked above (Personal experience says no..)\n",
    "# here just to retrieve stored results\n",
    "# Format arrays for results\n",
    "\n",
    "ideal0 = [] #lambda = 0\n",
    "ideal4 = [] # lambda = pi/4\n",
    "ideal8 = []\n",
    "ideal16 = []\n",
    "ideal32 = [] #lambda = pi/32\n",
    "\n",
    "# Format arrays for results\n",
    "noisy0 = [] #lambda = 0\n",
    "noisy4 = [] # lambda = pi/4\n",
    "noisy8 = []\n",
    "noisy16 = []\n",
    "noisy32 = [] #lambda = pi/32\n",
    "\n",
    "### Results with noise\n",
    "exp_results = backend.retrieve_job('JOB_id') # lambda = 0\n",
    "exp_results = exp_results.result()\n",
    "for i in range(k*(m-n)):\n",
    "    noisy0.append(exp_results.get_counts(i))\n",
    "    \n",
    "exp_results = backend.retrieve_job('JOB_id') # lambda = 4\n",
    "exp_results = exp_results.result()\n",
    "for i in range(k*(m-n)):\n",
    "    noisy4.append(exp_results.get_counts(i))\n",
    "    \n",
    "exp_results = backend.retrieve_job('JOB_id') # lambda = 8\n",
    "exp_results = exp_results.result()\n",
    "for i in range(k*(m-n)):\n",
    "    noisy8.append(exp_results.get_counts(i))\n",
    "    \n",
    "exp_results = backend.retrieve_job('JOB_id') # lambda = 16\n",
    "exp_results = exp_results.result()\n",
    "for i in range(k*(m-n)):\n",
    "    noisy16.append(exp_results.get_counts(i))\n",
    "    \n",
    "exp_results = backend.retrieve_job('JOB_id') # lambda = 32\n",
    "exp_results = exp_results.result()\n",
    "for i in range(k*(m-n)):\n",
    "    noisy32.append(exp_results.get_counts(i))\n",
    "    \n",
    "## Results without noise\n",
    "\n",
    "exp_results = backend.retrieve_job('JOB_id') # lambda = 0\n",
    "exp_results = exp_results.result()\n",
    "for i in range(k*(m-n)):\n",
    "    ideal0.append(exp_results.get_counts(i))\n",
    "    \n",
    "exp_results = backend.retrieve_job('JOB_id') # lambda = 4\n",
    "exp_results = exp_results.result()\n",
    "for i in range(k*(m-n)):\n",
    "    ideal4.append(exp_results.get_counts(i))\n",
    "    \n",
    "exp_results = backend.retrieve_job('JOB_id') # lambda = 8\n",
    "exp_results = exp_results.result()\n",
    "for i in range(k*(m-n)):\n",
    "    ideal8.append(exp_results.get_counts(i))\n",
    "    \n",
    "exp_results = backend.retrieve_job('JOB_id') # lambda = 16\n",
    "exp_results = exp_results.result()\n",
    "for i in range(k*(m-n)):\n",
    "    ideal16.append(exp_results.get_counts(i))\n",
    "    \n",
    "exp_results = backend.retrieve_job('JOB_id') # lambda = 32\n",
    "exp_results = exp_results.result()\n",
    "for i in range(k*(m-n)):\n",
    "    ideal32.append(exp_results.get_counts(i))"
   ]
  },
  {
   "cell_type": "code",
   "execution_count": null,
   "id": "fatal-wildlife",
   "metadata": {},
   "outputs": [],
   "source": [
    "# For testing one at a time (if some simulations fail)\n",
    "tmp = []\n",
    "tmpi = []\n",
    "for i in range(len(circs_8)):\n",
    "    tmp.append(noisy8.results().get_counts(i))\n",
    "    tmpi.append(ideal8.results().get_counts(i))\n",
    "noisy8 = tmp\n",
    "ideal8 = tmpi"
   ]
  },
  {
   "cell_type": "code",
   "execution_count": null,
   "id": "graphic-method",
   "metadata": {},
   "outputs": [],
   "source": []
  },
  {
   "cell_type": "code",
   "execution_count": null,
   "id": "mobile-memorabilia",
   "metadata": {},
   "outputs": [],
   "source": []
  },
  {
   "cell_type": "code",
   "execution_count": 144,
   "id": "average-reservoir",
   "metadata": {},
   "outputs": [],
   "source": [
    "# Calculate the successProbability of measuring zero\n",
    "\n",
    "zeros_n_0 = successProb(noisy0)\n",
    "zeros_i_0 = successProb(ideal0)\n",
    "\n",
    "zeros_n_4 = successProb(noisy4)\n",
    "zeros_i_4 = successProb(ideal4)\n",
    "\n",
    "zeros_n_8 = successProb(noisy8)\n",
    "zeros_i_8 = successProb(ideal8)\n",
    "\n",
    "zeros_n_16 = successProb(noisy16)\n",
    "zeros_i_16 = successProb(ideal16)\n",
    "\n",
    "zeros_n_32 = successProb(noisy32)\n",
    "zeros_i_32 = successProb(ideal32)"
   ]
  },
  {
   "cell_type": "code",
   "execution_count": 137,
   "id": "cultural-orientation",
   "metadata": {},
   "outputs": [],
   "source": [
    "# Calculate the predictions\n",
    "\n",
    "zeros_vert_0 = []\n",
    "zeros_vert_4 = []\n",
    "zeros_vert_8 = []\n",
    "zeros_vert_16 = []\n",
    "zeros_vert_32 = []\n",
    "pi = np.pi\n",
    "\n",
    "L = 0\n",
    "for j in range(1,m-1):\n",
    "    zeros_vert_0.append(successProbabilityPrediction(j,L))\n",
    "    \n",
    "L = pi/4\n",
    "for j in range(1,m-1):\n",
    "    zeros_vert_4.append(successProbabilityPrediction(j,L))\n",
    "\n",
    "L = pi/8\n",
    "for j in range(1,m-1):\n",
    "    zeros_vert_8.append(successProbabilityPrediction(j,L))\n",
    "\n",
    "    \n",
    "L = pi/16\n",
    "for j in range(1,m-1):\n",
    "    zeros_vert_16.append(successProbabilityPrediction(j,L))\n",
    "\n",
    "L = pi/32\n",
    "for j in range(1,m-1):\n",
    "    zeros_vert_32.append(successProbabilityPrediction(j,L))"
   ]
  },
  {
   "cell_type": "code",
   "execution_count": 51,
   "id": "reverse-tobacco",
   "metadata": {},
   "outputs": [],
   "source": []
  },
  {
   "cell_type": "code",
   "execution_count": 145,
   "id": "governing-moderator",
   "metadata": {},
   "outputs": [
    {
     "data": {
      "image/png": "[encoded data removed]",
      "text/plain": [
       "<Figure size 432x288 with 1 Axes>"
      ]
     },
     "metadata": {
      "needs_background": "light"
     },
     "output_type": "display_data"
    }
   ],
   "source": [
    "# Graph for results when Lambda=0\n",
    "\n",
    "x = []\n",
    "\n",
    "plots = []\n",
    "ind = (n-1)\n",
    "for i in range(n,m):\n",
    "    x.append(ind)\n",
    "\n",
    "    ind = ind +1\n",
    "xint = range(min(x), math.ceil(max(x))+1)\n",
    "    \n",
    "plt.step(x, zeros_vert_0,color='tab:blue',label=\"Calculated\")\n",
    "plt.step(x, zeros_n_0,color='tab:red',label=\"Noisy\")\n",
    "plt.step(x, zeros_i_0,color='tab:green',label=\"Ideal\")\n",
    "\n",
    "plt.xticks(xint)\n",
    "plt.ylim([0.480,0.520])\n",
    "plt.legend()\n",
    "plt.xlabel('Number of sequential measurements')\n",
    "plt.ylabel('Proba§bility of outcome being zero')\n",
    "plt.show()"
   ]
  },
  {
   "cell_type": "code",
   "execution_count": 146,
   "id": "worth-grocery",
   "metadata": {},
   "outputs": [
    {
     "data": {
      "image/png": "[encoded data removed]",
      "text/plain": [
       "<Figure size 432x288 with 1 Axes>"
      ]
     },
     "metadata": {
      "needs_background": "light"
     },
     "output_type": "display_data"
    }
   ],
   "source": [
    "# Graph for results when Lambda=pi/4\n",
    "\n",
    "x = []\n",
    "\n",
    "plots = []\n",
    "ind = (n-1)\n",
    "for i in range(n,m):\n",
    "    x.append(ind)\n",
    "\n",
    "    ind = ind +1\n",
    "xint = range(min(x), math.ceil(max(x))+1)\n",
    "    \n",
    "plt.step(x, zeros_vert_4,color='tab:blue',label=\"Calculated\")\n",
    "plt.step(x, zeros_n_4,color='tab:red',label=\"Noisy\")\n",
    "plt.step(x, zeros_i_4,color='tab:green',label=\"Ideal\")\n",
    "\n",
    "plt.xticks(xint)\n",
    "plt.ylim([0.5,1.02])\n",
    "plt.legend()\n",
    "plt.xlabel('Number of sequential measurements')\n",
    "plt.ylabel('Probability of outcome being zero')\n",
    "plt.show()"
   ]
  },
  {
   "cell_type": "code",
   "execution_count": 147,
   "id": "peaceful-painting",
   "metadata": {},
   "outputs": [
    {
     "data": {
      "image/png": "[encoded data removed]",
      "text/plain": [
       "<Figure size 432x288 with 1 Axes>"
      ]
     },
     "metadata": {
      "needs_background": "light"
     },
     "output_type": "display_data"
    }
   ],
   "source": [
    "# Graph for results when Lambda=pi/8\n",
    "\n",
    "x = []\n",
    "\n",
    "plots = []\n",
    "ind = (n-1)\n",
    "for i in range(n,m):\n",
    "    x.append(ind)\n",
    "\n",
    "    ind = ind +1\n",
    "xint = range(min(x), math.ceil(max(x))+1)\n",
    "    \n",
    "plt.step(x, zeros_vert_8,color='tab:blue',label=\"Calculated\")\n",
    "plt.step(x, zeros_n_8,color='tab:red',label=\"Noisy\")\n",
    "plt.step(x, zeros_i_8,color='tab:green',label=\"Ideal\")\n",
    "\n",
    "\n",
    "plt.xticks(xint)\n",
    "plt.ylim([0.5,1.02])\n",
    "plt.legend()\n",
    "plt.xlabel('Number of sequential measurements')\n",
    "plt.ylabel('Probability of outcome being zero')\n",
    "plt.show()"
   ]
  },
  {
   "cell_type": "code",
   "execution_count": 148,
   "id": "understanding-driving",
   "metadata": {},
   "outputs": [
    {
     "data": {
      "image/png": "[encoded data removed]",
      "text/plain": [
       "<Figure size 432x288 with 1 Axes>"
      ]
     },
     "metadata": {
      "needs_background": "light"
     },
     "output_type": "display_data"
    }
   ],
   "source": [
    "# Graph for results when Lambda=pi/16\n",
    "\n",
    "x = []\n",
    "\n",
    "plots = []\n",
    "ind = (n-1)\n",
    "for i in range(n,m):\n",
    "    x.append(ind)\n",
    "\n",
    "    ind = ind +1\n",
    "xint = range(min(x), math.ceil(max(x))+1)\n",
    "    \n",
    "plt.step(x, zeros_vert_16,color='tab:blue',label=\"Calculated\")\n",
    "plt.step(x, zeros_n_16,color='tab:red',label=\"Noisy\")\n",
    "plt.step(x, zeros_i_16,color='tab:green',label=\"Ideal\")\n",
    "\n",
    "plt.xticks(xint)\n",
    "plt.ylim([0.5,1.02])\n",
    "plt.legend()\n",
    "plt.xlabel('Number of sequential measurements')\n",
    "plt.ylabel('Probability of outcome being zero')\n",
    "plt.show()"
   ]
  },
  {
   "cell_type": "code",
   "execution_count": 149,
   "id": "funny-person",
   "metadata": {},
   "outputs": [
    {
     "data": {
      "image/png": "[encoded data removed]",
      "text/plain": [
       "<Figure size 432x288 with 1 Axes>"
      ]
     },
     "metadata": {
      "needs_background": "light"
     },
     "output_type": "display_data"
    }
   ],
   "source": [
    "# Graph for results when Lambda=pi/32\n",
    "\n",
    "\n",
    "x = []\n",
    "\n",
    "plots = []\n",
    "ind = (n-1)\n",
    "for i in range(n,m):\n",
    "    x.append(ind)\n",
    "\n",
    "    ind = ind +1\n",
    "\n",
    "plt.step(x, zeros_vert_32,color='tab:blue',label=\"Calculated\")\n",
    "plt.step(x, zeros_n_32,color='tab:red',label=\"Noisy\")\n",
    "plt.step(x, zeros_i_32,color='tab:green',label=\"Ideal\")\n",
    "\n",
    "plt.xticks(xint)\n",
    "plt.ylim([0.5,1.02])\n",
    "plt.legend()\n",
    "plt.xlabel('Number of sequential measurements')\n",
    "plt.ylabel('Probability of outcome being zero')\n",
    "plt.show()"
   ]
  },
  {
   "cell_type": "code",
   "execution_count": null,
   "id": "fewer-poster",
   "metadata": {},
   "outputs": [],
   "source": []
  },
  {
   "cell_type": "code",
   "execution_count": 53,
   "id": "understanding-species",
   "metadata": {},
   "outputs": [],
   "source": []
  },
  {
   "cell_type": "code",
   "execution_count": 61,
   "id": "occupied-combat",
   "metadata": {},
   "outputs": [
    {
     "name": "stdout",
     "output_type": "stream",
     "text": [
      "('qiskit-terra', '0.17.1')\n",
      "('qiskit-aer', '0.8.1')\n",
      "('qiskit-ignis', '0.6.0')\n",
      "('qiskit-ibmq-provider', '0.12.3')\n",
      "('qiskit-aqua', '0.9.1')\n",
      "('qiskit', '0.25.2')\n",
      "('qiskit-nature', None)\n",
      "('qiskit-finance', None)\n",
      "('qiskit-optimization', None)\n",
      "('qiskit-machine-learning', None)\n"
     ]
    }
   ],
   "source": [
    "import qiskit\n",
    "for i in qiskit.__qiskit_version__.items():\n",
    "    print(i)"
   ]
  },
  {
   "cell_type": "code",
   "execution_count": null,
   "id": "floppy-tissue",
   "metadata": {},
   "outputs": [],
   "source": []
  }
 ],
 "metadata": {
  "kernelspec": {
   "display_name": "Python 3",
   "language": "python",
   "name": "python3"
  },
  "language_info": {
   "codemirror_mode": {
    "name": "ipython",
    "version": 3
   },
   "file_extension": ".py",
   "mimetype": "text/x-python",
   "name": "python",
   "nbconvert_exporter": "python",
   "pygments_lexer": "ipython3",
   "version": "3.9.4"
  }
 },
 "nbformat": 4,
 "nbformat_minor": 5
}
