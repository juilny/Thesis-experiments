{
 "cells": [
  {
   "cell_type": "code",
   "execution_count": null,
   "id": "impaired-quarter",
   "metadata": {},
   "outputs": [],
   "source": [
    "# This notebook has been modified (cleaned up) from the exact version used in the thesis,\n",
    "# and verified to work with versions seen in the end."
   ]
  },
  {
   "cell_type": "code",
   "execution_count": null,
   "id": "cross-brunei",
   "metadata": {},
   "outputs": [],
   "source": [
    "# Too many things imported, could be cleaned up more\n",
    "\n",
    "import matplotlib.pyplot as plt\n",
    "'exec %matplotlib inline'\n",
    "import numpy as np\n",
    "import inspect\n",
    "\n",
    "from qiskit import IBMQ, BasicAer, transpile\n",
    "from qiskit.providers.ibmq import least_busy\n",
    "from qiskit import QuantumCircuit, ClassicalRegister, QuantumRegister, execute\n",
    "from qiskit.circuit.library import MCMT\n",
    "\n",
    "from qiskit.tools.visualization import plot_histogram, plot_gate_map, plot_circuit_layout\n",
    "from qiskit.tools.monitor import job_monitor\n",
    "from qiskit.providers.ibmq.managed import IBMQJobManager"
   ]
  },
  {
   "cell_type": "code",
   "execution_count": 2,
   "id": "international-tract",
   "metadata": {},
   "outputs": [],
   "source": [
    "# The oracle function\n",
    "def unitary_oracle(case, n):\n",
    "    oracle_circ = QuantumCircuit(n+1)\n",
    "    \n",
    "    if case == \"balanced\":\n",
    " \n",
    "        for qubit in range(n):\n",
    "            oracle_circ.cx(qubit,n)\n",
    "\n",
    "            \n",
    "# Make a gate out of circuits defined above\n",
    "    oracle_gate = oracle_circ.to_gate()\n",
    "    \n",
    "    oracle_gate.name = \" oracle  \"\n",
    "\n",
    "\n",
    "    return oracle_gate, oracle_circ"
   ]
  },
  {
   "cell_type": "code",
   "execution_count": 6,
   "id": "sealed-enemy",
   "metadata": {},
   "outputs": [],
   "source": [
    "# Easier to call when creating multiple circuits\n",
    "def create_circuit(case, n):\n",
    "    oracle_gate, oracle = unitary_oracle(case, n)\n",
    "    q = QuantumRegister(n+1,name='q')\n",
    "    c = ClassicalRegister(n,name='c')\n",
    "    qc = QuantumCircuit(q,c)\n",
    "    \n",
    "    # Prepare the system\n",
    "    qc.x(n)\n",
    "    qc.h(n)\n",
    "    for i in range(n):\n",
    "        qc.h(i)\n",
    "    qc.barrier()\n",
    "    # Run oracle\n",
    "    qc.append(oracle_gate, range(n+1))\n",
    "    qc.barrier()\n",
    "    # Back to measurement basis\n",
    "    for i in range(n):\n",
    "        qc.h(i)\n",
    "    qc.barrier()\n",
    "    for i in range(n): #measure all but the last qubit\n",
    "        qc.measure(i,i)\n",
    "    \n",
    "    return qc"
   ]
  },
  {
   "cell_type": "code",
   "execution_count": 42,
   "id": "touched-verification",
   "metadata": {},
   "outputs": [],
   "source": [
    "# create 2 quantum circuits with n qubits. First one with constant oracle and the second with balanced\n",
    "\n",
    "n = 4\n",
    "circs = [] # More efficient to run both circuits on IBM machines on one go\n",
    "circs.append(create_circuit('constant', n))\n",
    "circs.append(create_circuit('balanced', n))"
   ]
  },
  {
   "cell_type": "code",
   "execution_count": 43,
   "id": "supported-equivalent",
   "metadata": {},
   "outputs": [
    {
     "data": {
      "image/png": "[encoded data removed]",
      "text/plain": [
       "<Figure size 808.997x385.28 with 1 Axes>"
      ]
     },
     "execution_count": 43,
     "metadata": {},
     "output_type": "execute_result"
    }
   ],
   "source": [
    "circs[0].draw() "
   ]
  },
  {
   "cell_type": "code",
   "execution_count": 10,
   "id": "pregnant-network",
   "metadata": {},
   "outputs": [
    {
     "data": {
      "text/plain": [
       "<AccountProvider for IBMQ(hub='ibm-q', group='open', project='main')>"
      ]
     },
     "execution_count": 10,
     "metadata": {},
     "output_type": "execute_result"
    }
   ],
   "source": [
    "IBMQ.load_account()"
   ]
  },
  {
   "cell_type": "code",
   "execution_count": 45,
   "id": "official-poetry",
   "metadata": {},
   "outputs": [],
   "source": [
    "# Use the transpiler for the circuit \n",
    "\n",
    "provider = IBMQ.get_provider(hub='ibm-q')\n",
    "backend = provider.get_backend('ibmqx2')\n",
    "name = 'Deutsch-Jozsa ' + str(n) + ' qubits'\n",
    "inspect.signature(transpile)\n",
    "circs = transpile(circs, backend=backend, optimization_level=3)"
   ]
  },
  {
   "cell_type": "code",
   "execution_count": 46,
   "id": "effective-andorra",
   "metadata": {},
   "outputs": [
    {
     "data": {
      "image/png": "[encoded data removed]",
      "text/plain": [
       "<Figure size 360x360 with 1 Axes>"
      ]
     },
     "execution_count": 46,
     "metadata": {},
     "output_type": "execute_result"
    }
   ],
   "source": [
    "plot_circuit_layout(circs[1], backend)"
   ]
  },
  {
   "cell_type": "code",
   "execution_count": 22,
   "id": "touched-cutting",
   "metadata": {},
   "outputs": [],
   "source": [
    "#Run the circuits on IBM quantum machines\n",
    "shots = 8192\n",
    "\n",
    "job_manager = IBMQJobManager()\n",
    "jobs = job_manager.run(circs, backend=backend, name=name, shots=shots)"
   ]
  },
  {
   "cell_type": "code",
   "execution_count": 24,
   "id": "breathing-evans",
   "metadata": {},
   "outputs": [
    {
     "data": {
      "text/plain": [
       "[<JobStatus.DONE: 'job has successfully run'>]"
      ]
     },
     "execution_count": 24,
     "metadata": {},
     "output_type": "execute_result"
    }
   ],
   "source": [
    "jobs.statuses()"
   ]
  },
  {
   "cell_type": "code",
   "execution_count": 25,
   "id": "thrown-madison",
   "metadata": {},
   "outputs": [],
   "source": [
    "# Local simulator\n",
    "backend_sim = BasicAer.get_backend('qasm_simulator')\n",
    "simulations = execute(circs, backend=backend_sim, shots=8192)"
   ]
  },
  {
   "cell_type": "code",
   "execution_count": null,
   "id": "historical-dinner",
   "metadata": {},
   "outputs": [],
   "source": [
    "# Store all results\n",
    "exp_results = jobs.results()\n",
    "\n",
    "constant_exp_result = exp_results.get_counts(0)\n",
    "balanced_exp_result = exp_results.get_counts(1)\n",
    "\n",
    "constant_sim_result = simulations.result().get_counts(0)\n",
    "balanced_sim_result = simulations.result().get_counts(1)"
   ]
  },
  {
   "cell_type": "code",
   "execution_count": 31,
   "id": "collected-royalty",
   "metadata": {},
   "outputs": [],
   "source": []
  },
  {
   "cell_type": "code",
   "execution_count": 33,
   "id": "analyzed-deployment",
   "metadata": {},
   "outputs": [
    {
     "data": {
      "image/png": "[encoded data removed]",
      "text/plain": [
       "<Figure size 504x360 with 1 Axes>"
      ]
     },
     "execution_count": 33,
     "metadata": {},
     "output_type": "execute_result"
    }
   ],
   "source": [
    "#Balanced Oracle\n",
    "\n",
    "legend = ['Real', 'Simulator']\n",
    "plot_histogram([balanced_exp_result, balanced_sim_result], legend=legend, bar_labels=False)"
   ]
  },
  {
   "cell_type": "code",
   "execution_count": 34,
   "id": "tough-bridges",
   "metadata": {},
   "outputs": [
    {
     "name": "stdout",
     "output_type": "stream",
     "text": [
      "{'0000': 65, '0001': 102, '0010': 68, '0011': 181, '0100': 104, '0101': 461, '0110': 183, '0111': 953, '1000': 72, '1001': 228, '1010': 120, '1011': 545, '1100': 248, '1101': 1372, '1110': 545, '1111': 2945}\n"
     ]
    }
   ],
   "source": [
    "print(balanced_exp_result)"
   ]
  },
  {
   "cell_type": "code",
   "execution_count": 35,
   "id": "ranking-source",
   "metadata": {
    "scrolled": true
   },
   "outputs": [
    {
     "data": {
      "image/png": "[encoded data removed]",
      "text/plain": [
       "<Figure size 504x360 with 1 Axes>"
      ]
     },
     "execution_count": 35,
     "metadata": {},
     "output_type": "execute_result"
    }
   ],
   "source": [
    "#Constant Oracle\n",
    "\n",
    "legend = ['Real', 'Simulator']\n",
    "plot_histogram([constant_exp_result, constant_sim_result], legend=legend)"
   ]
  },
  {
   "cell_type": "code",
   "execution_count": 47,
   "id": "variable-blues",
   "metadata": {},
   "outputs": [
    {
     "name": "stdout",
     "output_type": "stream",
     "text": [
      "{'0000': 6100, '0001': 155, '0010': 214, '0011': 5, '0100': 666, '0101': 24, '0110': 28, '0111': 2, '1000': 833, '1001': 16, '1010': 44, '1011': 1, '1100': 93, '1101': 1, '1110': 10}\n"
     ]
    }
   ],
   "source": [
    "print(constant_exp_result)"
   ]
  },
  {
   "cell_type": "code",
   "execution_count": null,
   "id": "alert-tunnel",
   "metadata": {},
   "outputs": [],
   "source": []
  },
  {
   "cell_type": "code",
   "execution_count": null,
   "id": "chemical-latex",
   "metadata": {},
   "outputs": [],
   "source": []
  },
  {
   "cell_type": "code",
   "execution_count": 38,
   "id": "conscious-albuquerque",
   "metadata": {},
   "outputs": [
    {
     "name": "stdout",
     "output_type": "stream",
     "text": [
      "('qiskit-terra', '0.17.1')\n",
      "('qiskit-aer', '0.8.1')\n",
      "('qiskit-ignis', '0.6.0')\n",
      "('qiskit-ibmq-provider', '0.12.3')\n",
      "('qiskit-aqua', '0.9.1')\n",
      "('qiskit', '0.25.2')\n",
      "('qiskit-nature', None)\n",
      "('qiskit-finance', None)\n",
      "('qiskit-optimization', None)\n",
      "('qiskit-machine-learning', None)\n"
     ]
    }
   ],
   "source": [
    "import qiskit\n",
    "for i in qiskit.__qiskit_version__.items():\n",
    "    print(i)"
   ]
  }
 ],
 "metadata": {
  "kernelspec": {
   "display_name": "Python 3",
   "language": "python",
   "name": "python3"
  },
  "language_info": {
   "codemirror_mode": {
    "name": "ipython",
    "version": 3
   },
   "file_extension": ".py",
   "mimetype": "text/x-python",
   "name": "python",
   "nbconvert_exporter": "python",
   "pygments_lexer": "ipython3",
   "version": "3.9.4"
  }
 },
 "nbformat": 4,
 "nbformat_minor": 5
}
